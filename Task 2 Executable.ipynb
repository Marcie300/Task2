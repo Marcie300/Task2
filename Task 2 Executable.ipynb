{
 "cells": [
  {
   "cell_type": "code",
   "execution_count": 1,
   "id": "e6c41fc9-93b4-4260-b9df-6ca40bda2ea4",
   "metadata": {},
   "outputs": [
    {
     "name": "stdout",
     "output_type": "stream",
     "text": [
      "Requirement already satisfied: papermill in c:\\users\\samsung\\anaconda3\\lib\\site-packages (2.6.0)\n",
      "Requirement already satisfied: click in c:\\users\\samsung\\anaconda3\\lib\\site-packages (from papermill) (8.1.7)\n",
      "Requirement already satisfied: pyyaml in c:\\users\\samsung\\anaconda3\\lib\\site-packages (from papermill) (6.0.1)\n",
      "Requirement already satisfied: nbformat>=5.2.0 in c:\\users\\samsung\\anaconda3\\lib\\site-packages (from papermill) (5.10.4)\n",
      "Requirement already satisfied: nbclient>=0.2.0 in c:\\users\\samsung\\anaconda3\\lib\\site-packages (from papermill) (0.8.0)\n",
      "Requirement already satisfied: tqdm>=4.32.2 in c:\\users\\samsung\\anaconda3\\lib\\site-packages (from papermill) (4.66.5)\n",
      "Requirement already satisfied: requests in c:\\users\\samsung\\anaconda3\\lib\\site-packages (from papermill) (2.32.3)\n",
      "Requirement already satisfied: entrypoints in c:\\users\\samsung\\anaconda3\\lib\\site-packages (from papermill) (0.4)\n",
      "Requirement already satisfied: tenacity>=5.0.2 in c:\\users\\samsung\\anaconda3\\lib\\site-packages (from papermill) (8.2.3)\n",
      "Requirement already satisfied: ansicolors in c:\\users\\samsung\\anaconda3\\lib\\site-packages (from papermill) (1.1.8)\n",
      "Requirement already satisfied: aiohttp>=3.9.0 in c:\\users\\samsung\\anaconda3\\lib\\site-packages (from papermill) (3.10.5)\n",
      "Requirement already satisfied: aiohappyeyeballs>=2.3.0 in c:\\users\\samsung\\anaconda3\\lib\\site-packages (from aiohttp>=3.9.0->papermill) (2.4.0)\n",
      "Requirement already satisfied: aiosignal>=1.1.2 in c:\\users\\samsung\\anaconda3\\lib\\site-packages (from aiohttp>=3.9.0->papermill) (1.2.0)\n",
      "Requirement already satisfied: attrs>=17.3.0 in c:\\users\\samsung\\anaconda3\\lib\\site-packages (from aiohttp>=3.9.0->papermill) (23.1.0)\n",
      "Requirement already satisfied: frozenlist>=1.1.1 in c:\\users\\samsung\\anaconda3\\lib\\site-packages (from aiohttp>=3.9.0->papermill) (1.4.0)\n",
      "Requirement already satisfied: multidict<7.0,>=4.5 in c:\\users\\samsung\\anaconda3\\lib\\site-packages (from aiohttp>=3.9.0->papermill) (6.0.4)\n",
      "Requirement already satisfied: yarl<2.0,>=1.0 in c:\\users\\samsung\\anaconda3\\lib\\site-packages (from aiohttp>=3.9.0->papermill) (1.11.0)\n",
      "Requirement already satisfied: jupyter-client>=6.1.12 in c:\\users\\samsung\\anaconda3\\lib\\site-packages (from nbclient>=0.2.0->papermill) (8.6.0)\n",
      "Requirement already satisfied: jupyter-core!=5.0.*,>=4.12 in c:\\users\\samsung\\anaconda3\\lib\\site-packages (from nbclient>=0.2.0->papermill) (5.7.2)\n",
      "Requirement already satisfied: traitlets>=5.4 in c:\\users\\samsung\\anaconda3\\lib\\site-packages (from nbclient>=0.2.0->papermill) (5.14.3)\n",
      "Requirement already satisfied: fastjsonschema>=2.15 in c:\\users\\samsung\\anaconda3\\lib\\site-packages (from nbformat>=5.2.0->papermill) (2.16.2)\n",
      "Requirement already satisfied: jsonschema>=2.6 in c:\\users\\samsung\\anaconda3\\lib\\site-packages (from nbformat>=5.2.0->papermill) (4.23.0)\n",
      "Requirement already satisfied: colorama in c:\\users\\samsung\\anaconda3\\lib\\site-packages (from tqdm>=4.32.2->papermill) (0.4.6)\n",
      "Requirement already satisfied: charset-normalizer<4,>=2 in c:\\users\\samsung\\anaconda3\\lib\\site-packages (from requests->papermill) (3.3.2)\n",
      "Requirement already satisfied: idna<4,>=2.5 in c:\\users\\samsung\\anaconda3\\lib\\site-packages (from requests->papermill) (3.7)\n",
      "Requirement already satisfied: urllib3<3,>=1.21.1 in c:\\users\\samsung\\anaconda3\\lib\\site-packages (from requests->papermill) (2.2.3)\n",
      "Requirement already satisfied: certifi>=2017.4.17 in c:\\users\\samsung\\anaconda3\\lib\\site-packages (from requests->papermill) (2024.12.14)\n",
      "Requirement already satisfied: jsonschema-specifications>=2023.03.6 in c:\\users\\samsung\\anaconda3\\lib\\site-packages (from jsonschema>=2.6->nbformat>=5.2.0->papermill) (2023.7.1)\n",
      "Requirement already satisfied: referencing>=0.28.4 in c:\\users\\samsung\\anaconda3\\lib\\site-packages (from jsonschema>=2.6->nbformat>=5.2.0->papermill) (0.30.2)\n",
      "Requirement already satisfied: rpds-py>=0.7.1 in c:\\users\\samsung\\anaconda3\\lib\\site-packages (from jsonschema>=2.6->nbformat>=5.2.0->papermill) (0.10.6)\n",
      "Requirement already satisfied: python-dateutil>=2.8.2 in c:\\users\\samsung\\anaconda3\\lib\\site-packages (from jupyter-client>=6.1.12->nbclient>=0.2.0->papermill) (2.9.0.post0)\n",
      "Requirement already satisfied: pyzmq>=23.0 in c:\\users\\samsung\\anaconda3\\lib\\site-packages (from jupyter-client>=6.1.12->nbclient>=0.2.0->papermill) (25.1.2)\n",
      "Requirement already satisfied: tornado>=6.2 in c:\\users\\samsung\\anaconda3\\lib\\site-packages (from jupyter-client>=6.1.12->nbclient>=0.2.0->papermill) (6.4.1)\n",
      "Requirement already satisfied: platformdirs>=2.5 in c:\\users\\samsung\\anaconda3\\lib\\site-packages (from jupyter-core!=5.0.*,>=4.12->nbclient>=0.2.0->papermill) (3.10.0)\n",
      "Requirement already satisfied: pywin32>=300 in c:\\users\\samsung\\anaconda3\\lib\\site-packages (from jupyter-core!=5.0.*,>=4.12->nbclient>=0.2.0->papermill) (305.1)\n",
      "Requirement already satisfied: six>=1.5 in c:\\users\\samsung\\anaconda3\\lib\\site-packages (from python-dateutil>=2.8.2->jupyter-client>=6.1.12->nbclient>=0.2.0->papermill) (1.16.0)\n",
      "Note: you may need to restart the kernel to use updated packages.\n"
     ]
    }
   ],
   "source": [
    "pip install papermill\n"
   ]
  },
  {
   "cell_type": "code",
   "execution_count": 3,
   "id": "43f6d53e-2ec9-4268-90d5-04ffeefff80c",
   "metadata": {},
   "outputs": [
    {
     "name": "stdout",
     "output_type": "stream",
     "text": [
      "Requirement already satisfied: papermill in c:\\users\\samsung\\anaconda3\\lib\\site-packages (2.6.0)\n",
      "Requirement already satisfied: click in c:\\users\\samsung\\anaconda3\\lib\\site-packages (from papermill) (8.1.7)\n",
      "Requirement already satisfied: pyyaml in c:\\users\\samsung\\anaconda3\\lib\\site-packages (from papermill) (6.0.1)\n",
      "Requirement already satisfied: nbformat>=5.2.0 in c:\\users\\samsung\\anaconda3\\lib\\site-packages (from papermill) (5.10.4)\n",
      "Requirement already satisfied: nbclient>=0.2.0 in c:\\users\\samsung\\anaconda3\\lib\\site-packages (from papermill) (0.8.0)\n",
      "Requirement already satisfied: tqdm>=4.32.2 in c:\\users\\samsung\\anaconda3\\lib\\site-packages (from papermill) (4.66.5)\n",
      "Requirement already satisfied: requests in c:\\users\\samsung\\anaconda3\\lib\\site-packages (from papermill) (2.32.3)\n",
      "Requirement already satisfied: entrypoints in c:\\users\\samsung\\anaconda3\\lib\\site-packages (from papermill) (0.4)\n",
      "Requirement already satisfied: tenacity>=5.0.2 in c:\\users\\samsung\\anaconda3\\lib\\site-packages (from papermill) (8.2.3)\n",
      "Requirement already satisfied: ansicolors in c:\\users\\samsung\\anaconda3\\lib\\site-packages (from papermill) (1.1.8)\n",
      "Requirement already satisfied: aiohttp>=3.9.0 in c:\\users\\samsung\\anaconda3\\lib\\site-packages (from papermill) (3.10.5)\n",
      "Requirement already satisfied: aiohappyeyeballs>=2.3.0 in c:\\users\\samsung\\anaconda3\\lib\\site-packages (from aiohttp>=3.9.0->papermill) (2.4.0)\n",
      "Requirement already satisfied: aiosignal>=1.1.2 in c:\\users\\samsung\\anaconda3\\lib\\site-packages (from aiohttp>=3.9.0->papermill) (1.2.0)\n",
      "Requirement already satisfied: attrs>=17.3.0 in c:\\users\\samsung\\anaconda3\\lib\\site-packages (from aiohttp>=3.9.0->papermill) (23.1.0)\n",
      "Requirement already satisfied: frozenlist>=1.1.1 in c:\\users\\samsung\\anaconda3\\lib\\site-packages (from aiohttp>=3.9.0->papermill) (1.4.0)\n",
      "Requirement already satisfied: multidict<7.0,>=4.5 in c:\\users\\samsung\\anaconda3\\lib\\site-packages (from aiohttp>=3.9.0->papermill) (6.0.4)\n",
      "Requirement already satisfied: yarl<2.0,>=1.0 in c:\\users\\samsung\\anaconda3\\lib\\site-packages (from aiohttp>=3.9.0->papermill) (1.11.0)\n",
      "Requirement already satisfied: jupyter-client>=6.1.12 in c:\\users\\samsung\\anaconda3\\lib\\site-packages (from nbclient>=0.2.0->papermill) (8.6.0)\n",
      "Requirement already satisfied: jupyter-core!=5.0.*,>=4.12 in c:\\users\\samsung\\anaconda3\\lib\\site-packages (from nbclient>=0.2.0->papermill) (5.7.2)\n",
      "Requirement already satisfied: traitlets>=5.4 in c:\\users\\samsung\\anaconda3\\lib\\site-packages (from nbclient>=0.2.0->papermill) (5.14.3)\n",
      "Requirement already satisfied: fastjsonschema>=2.15 in c:\\users\\samsung\\anaconda3\\lib\\site-packages (from nbformat>=5.2.0->papermill) (2.16.2)\n",
      "Requirement already satisfied: jsonschema>=2.6 in c:\\users\\samsung\\anaconda3\\lib\\site-packages (from nbformat>=5.2.0->papermill) (4.23.0)\n",
      "Requirement already satisfied: colorama in c:\\users\\samsung\\anaconda3\\lib\\site-packages (from tqdm>=4.32.2->papermill) (0.4.6)\n",
      "Requirement already satisfied: charset-normalizer<4,>=2 in c:\\users\\samsung\\anaconda3\\lib\\site-packages (from requests->papermill) (3.3.2)\n",
      "Requirement already satisfied: idna<4,>=2.5 in c:\\users\\samsung\\anaconda3\\lib\\site-packages (from requests->papermill) (3.7)\n",
      "Requirement already satisfied: urllib3<3,>=1.21.1 in c:\\users\\samsung\\anaconda3\\lib\\site-packages (from requests->papermill) (2.2.3)\n",
      "Requirement already satisfied: certifi>=2017.4.17 in c:\\users\\samsung\\anaconda3\\lib\\site-packages (from requests->papermill) (2024.12.14)\n",
      "Requirement already satisfied: jsonschema-specifications>=2023.03.6 in c:\\users\\samsung\\anaconda3\\lib\\site-packages (from jsonschema>=2.6->nbformat>=5.2.0->papermill) (2023.7.1)\n",
      "Requirement already satisfied: referencing>=0.28.4 in c:\\users\\samsung\\anaconda3\\lib\\site-packages (from jsonschema>=2.6->nbformat>=5.2.0->papermill) (0.30.2)\n",
      "Requirement already satisfied: rpds-py>=0.7.1 in c:\\users\\samsung\\anaconda3\\lib\\site-packages (from jsonschema>=2.6->nbformat>=5.2.0->papermill) (0.10.6)\n",
      "Requirement already satisfied: python-dateutil>=2.8.2 in c:\\users\\samsung\\anaconda3\\lib\\site-packages (from jupyter-client>=6.1.12->nbclient>=0.2.0->papermill) (2.9.0.post0)\n",
      "Requirement already satisfied: pyzmq>=23.0 in c:\\users\\samsung\\anaconda3\\lib\\site-packages (from jupyter-client>=6.1.12->nbclient>=0.2.0->papermill) (25.1.2)\n",
      "Requirement already satisfied: tornado>=6.2 in c:\\users\\samsung\\anaconda3\\lib\\site-packages (from jupyter-client>=6.1.12->nbclient>=0.2.0->papermill) (6.4.1)\n",
      "Requirement already satisfied: platformdirs>=2.5 in c:\\users\\samsung\\anaconda3\\lib\\site-packages (from jupyter-core!=5.0.*,>=4.12->nbclient>=0.2.0->papermill) (3.10.0)\n",
      "Requirement already satisfied: pywin32>=300 in c:\\users\\samsung\\anaconda3\\lib\\site-packages (from jupyter-core!=5.0.*,>=4.12->nbclient>=0.2.0->papermill) (305.1)\n",
      "Requirement already satisfied: six>=1.5 in c:\\users\\samsung\\anaconda3\\lib\\site-packages (from python-dateutil>=2.8.2->jupyter-client>=6.1.12->nbclient>=0.2.0->papermill) (1.16.0)\n",
      "Note: you may need to restart the kernel to use updated packages.\n"
     ]
    }
   ],
   "source": [
    "pip install papermill\n"
   ]
  },
  {
   "cell_type": "code",
   "execution_count": 5,
   "id": "1d467e8b-3f12-42e2-9828-c31b6ef09869",
   "metadata": {},
   "outputs": [
    {
     "name": "stdout",
     "output_type": "stream",
     "text": [
      "Requirement already satisfied: numpy in c:\\users\\samsung\\anaconda3\\lib\\site-packages (1.26.4)\n",
      "Requirement already satisfied: scipy in c:\\users\\samsung\\anaconda3\\lib\\site-packages (1.13.1)\n",
      "Requirement already satisfied: matplotlib in c:\\users\\samsung\\anaconda3\\lib\\site-packages (3.9.2)\n",
      "Requirement already satisfied: contourpy>=1.0.1 in c:\\users\\samsung\\anaconda3\\lib\\site-packages (from matplotlib) (1.2.0)\n",
      "Requirement already satisfied: cycler>=0.10 in c:\\users\\samsung\\anaconda3\\lib\\site-packages (from matplotlib) (0.11.0)\n",
      "Requirement already satisfied: fonttools>=4.22.0 in c:\\users\\samsung\\anaconda3\\lib\\site-packages (from matplotlib) (4.51.0)\n",
      "Requirement already satisfied: kiwisolver>=1.3.1 in c:\\users\\samsung\\anaconda3\\lib\\site-packages (from matplotlib) (1.4.4)\n",
      "Requirement already satisfied: packaging>=20.0 in c:\\users\\samsung\\anaconda3\\lib\\site-packages (from matplotlib) (24.1)\n",
      "Requirement already satisfied: pillow>=8 in c:\\users\\samsung\\anaconda3\\lib\\site-packages (from matplotlib) (10.4.0)\n",
      "Requirement already satisfied: pyparsing>=2.3.1 in c:\\users\\samsung\\anaconda3\\lib\\site-packages (from matplotlib) (3.1.2)\n",
      "Requirement already satisfied: python-dateutil>=2.7 in c:\\users\\samsung\\anaconda3\\lib\\site-packages (from matplotlib) (2.9.0.post0)\n",
      "Requirement already satisfied: six>=1.5 in c:\\users\\samsung\\anaconda3\\lib\\site-packages (from python-dateutil>=2.7->matplotlib) (1.16.0)\n",
      "Note: you may need to restart the kernel to use updated packages.\n"
     ]
    }
   ],
   "source": [
    "pip install numpy scipy matplotlib"
   ]
  },
  {
   "cell_type": "code",
   "execution_count": 7,
   "id": "8719a4f0-566d-453d-b166-f176df2a87b5",
   "metadata": {},
   "outputs": [],
   "source": [
    "import numpy as np\n",
    "\n",
    "# Maturities in years\n",
    "maturities = np.array([0.5, 1, 2, 3, 5, 10, 15, 20,])\n",
    "\n",
    "# Yields corresponding to those maturities (in %)\n",
    "yields = np.array([13.9, 15.4, 15.8, 16.3, 16.5, 16.8, 17.1, 17.6])"
   ]
  },
  {
   "cell_type": "code",
   "execution_count": 9,
   "id": "86736142-3045-4f80-bdfa-c2c0142a691c",
   "metadata": {},
   "outputs": [],
   "source": [
    "def nelson_siegel(tau, beta0, beta1, beta2, lambd):\n",
    "    \"\"\"Nelson-Siegel yield curve function\"\"\"\n",
    "    term1 = (1 - np.exp(-lambd * tau)) / (lambd * tau)\n",
    "    term2 = term1 - np.exp(-lambd * tau)\n",
    "    return beta0 + beta1 * term1 + beta2 * term2"
   ]
  },
  {
   "cell_type": "code",
   "execution_count": 11,
   "id": "b84cb0d5-0f29-4510-abf9-192a4a12a754",
   "metadata": {},
   "outputs": [
    {
     "name": "stdout",
     "output_type": "stream",
     "text": [
      "Fitted parameters:\n",
      " beta0=17.2834, beta1=-4.9212, beta2=0.0000, lambda=1.8110\n"
     ]
    }
   ],
   "source": [
    "from scipy.optimize import curve_fit\n",
    "\n",
    "# Initial guess for parameters: [beta0, beta1, beta2, lambda]\n",
    "initial_guess = [17.6, -3.7, 2.0, 0.5]\n",
    "\n",
    "# Fit the curve\n",
    "params, covariance = curve_fit(nelson_siegel, maturities, yields, p0=initial_guess)\n",
    "\n",
    "# Extract fitted parameters\n",
    "beta0, beta1, beta2, lambd = params\n",
    "print(f\"Fitted parameters:\\n beta0={beta0:.4f}, beta1={beta1:.4f}, beta2={beta2:.4f}, lambda={lambd:.4f}\")"
   ]
  },
  {
   "cell_type": "code",
   "execution_count": 13,
   "id": "f6a48655-c460-4bdd-9f67-b7de1c32b27b",
   "metadata": {},
   "outputs": [
    {
     "data": {
      "image/png": "[encoded data removed]",
      "text/plain": [
       "<Figure size 1000x600 with 1 Axes>"
      ]
     },
     "metadata": {},
     "output_type": "display_data"
    }
   ],
   "source": [
    "import matplotlib.pyplot as plt\n",
    "\n",
    "# Generate smooth curve for plotting\n",
    "tau_fine = np.linspace(0.01, 30, 300)\n",
    "fitted_yields = nelson_siegel(tau_fine, beta0, beta1, beta2, lambd)\n",
    "\n",
    "plt.figure(figsize=(10,6))\n",
    "plt.scatter(maturities, yields, color='red', label='Observed Yields')\n",
    "plt.plot(tau_fine, fitted_yields, label='Nelson-Siegel Fit', color='blue')\n",
    "plt.title('Nelson-Siegel Yield Curve Fitting')\n",
    "plt.xlabel('Maturity (Years)')\n",
    "plt.ylabel('Yield (%)')\n",
    "plt.legend()\n",
    "plt.grid(True)\n",
    "plt.show()"
   ]
  },
  {
   "cell_type": "code",
   "execution_count": 15,
   "id": "9cbb1e8a-1b8d-4cca-8811-55a6585f8c50",
   "metadata": {},
   "outputs": [],
   "source": [
    "import numpy as np\n",
    "import pandas as pd\n",
    "import matplotlib.pyplot as plt\n",
    "from scipy.interpolate import CubicSpline"
   ]
  },
  {
   "cell_type": "code",
   "execution_count": 17,
   "id": "4c574335-8dda-415b-b9d4-f9f3253264ba",
   "metadata": {},
   "outputs": [],
   "source": [
    "cs = CubicSpline(maturities, yields)"
   ]
  },
  {
   "cell_type": "code",
   "execution_count": 19,
   "id": "2a8b6968-14b3-45a9-9323-00dd18de4a12",
   "metadata": {},
   "outputs": [],
   "source": [
    "maturities_fine = np.linspace(0.5, 20, 100)  # create smooth points\n",
    "yields_fitted = cs(maturities_fine)"
   ]
  },
  {
   "cell_type": "code",
   "execution_count": null,
   "id": "d01d32ca-93c0-4670-9089-4ac1e37ad48e",
   "metadata": {},
   "outputs": [],
   "source": []
  }
 ],
 "metadata": {
  "kernelspec": {
   "display_name": "Python [conda env:base] *",
   "language": "python",
   "name": "conda-base-py"
  },
  "language_info": {
   "codemirror_mode": {
    "name": "ipython",
    "version": 3
   },
   "file_extension": ".py",
   "mimetype": "text/x-python",
   "name": "python",
   "nbconvert_exporter": "python",
   "pygments_lexer": "ipython3",
   "version": "3.12.7"
  }
 },
 "nbformat": 4,
 "nbformat_minor": 5
}
